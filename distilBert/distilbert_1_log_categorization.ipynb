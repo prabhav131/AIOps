{
  "cells": [
    {
      "cell_type": "code",
      "execution_count": 207,
      "metadata": {
        "id": "X-ZoWbei_Ogc"
      },
      "outputs": [],
      "source": [
        "import os\n",
        "import csv\n"
      ]
    },
    {
      "cell_type": "code",
      "execution_count": 208,
      "metadata": {
        "id": "sX3Kf2BX6fJp"
      },
      "outputs": [],
      "source": [
        "from syslog_processing import Processing\n"
      ]
    },
    {
      "cell_type": "code",
      "execution_count": 209,
      "metadata": {
        "id": "qZVd38As6hha"
      },
      "outputs": [],
      "source": [
        "obj = Processing()\n"
      ]
    },
    {
      "cell_type": "code",
      "execution_count": 210,
      "metadata": {
        "id": "v8f7Refl6iyi"
      },
      "outputs": [],
      "source": [
        "# input_csv_name = \"GPN_Syslog_500.csv\"\n",
        "# input_csv_path = \"GPN_Syslog_500.csv\"\n",
        "input_csv_path = 'processed_data/output_batch_1.csv'"
      ]
    },
    {
      "cell_type": "markdown",
      "metadata": {
        "id": "zUlQYpJQFblg"
      },
      "source": [
        "STEP 1: Preprocess the Log Data for a particular router."
      ]
    },
    {
      "cell_type": "markdown",
      "metadata": {},
      "source": [
        "STEP 1a. Take router info from user"
      ]
    },
    {
      "cell_type": "code",
      "execution_count": 211,
      "metadata": {},
      "outputs": [
        {
          "name": "stdout",
          "output_type": "stream",
          "text": [
            "Physical site id chosen= 0002\n",
            "Geolocation code chosen= GST\n",
            "Device role chosen= CR\n",
            "Device model number chosen= M14\n"
          ]
        }
      ],
      "source": [
        "physical_site = input(\"Enter physical site id (eg-0001): \")\n",
        "print(f\"Physical site id chosen= {physical_site}\")\n",
        "geo_code = input(\"Enter geolocation code (eg-TLK): \").upper()\n",
        "print(f\"Geolocation code chosen= {geo_code}\")\n",
        "device_role = input(\"Enter device role (eg-CR for core router): \").upper()\n",
        "print(f\"Device role chosen= {device_role}\")\n",
        "device_function = input(\"Enter device function (eg-M14): \").upper()\n",
        "print(f\"Device model number chosen= {device_function}\")\n",
        "device_model_number = input(\"Enter device model number (eg-M14): \").upper()\n",
        "print(f\"Device model number chosen= {device_model_number}\")\n",
        "# device_importance = input(\"Enter device importance (eg-01 for primary router): \")\n",
        "# print(f\"Device importance chosen= {device_importance}\")"
      ]
    },
    {
      "cell_type": "code",
      "execution_count": 212,
      "metadata": {
        "id": "yoH5SV2Q6kjW"
      },
      "outputs": [],
      "source": [
        "# desc = obj.get_specific_device_with_descriptions_formatted(input_csv_path= input_csv_path,physical_site_id='0001', geolocation_code='TLK', device_role='CR', device_model_number='M14', device_importance='01')\n",
        "desc = obj.get_specific_device_with_descriptions_formatted(input_csv_path= input_csv_path,physical_site_id=physical_site, geolocation_code=geo_code, device_role=device_role, device_model_number=device_model_number)\n"
      ]
    },
    {
      "cell_type": "code",
      "execution_count": 213,
      "metadata": {
        "colab": {
          "base_uri": "https://localhost:8080/"
        },
        "id": "cfbAcyBn6qU5",
        "outputId": "aa369ca3-d52e-410a-95b5-6ef62ba8e9db"
      },
      "outputs": [
        {
          "data": {
            "text/plain": [
              "['gbn-0002-gst-cr--m14-02 -> failed to login through ssh 2 time',\n",
              " 'gbn-0002-gst-cr--m14-02 -> log snmp/authenticationfailure is suppressed 1 in last 60 seconds.',\n",
              " 'gbn-0002-gst-cr--m14-02 -> log snmp/snmp_authen_failed is suppressed 1 in last 60 seconds.',\n",
              " 'gbn-0002-gst-cr--m14-02 -> the ssh user failed to login.',\n",
              " 'gbn-0002-gst-cr--m14-02 -> the ssh user failed to login.',\n",
              " 'gbn-0002-gst-cr--m14-02 -> failed to login through ssh 2 time',\n",
              " 'gbn-0002-gst-cr--m14-02 -> failed to login through snmp.',\n",
              " 'gbn-0002-gst-cr--m14-02 -> the source ip was locked because of the failure of login through snmp.',\n",
              " 'gbn-0002-gst-cr--m14-02 -> the source ip was unlocked.',\n",
              " 'gbn-0002-gst-cr--m14-02 -> failed to login through snmp.',\n",
              " 'gbn-0002-gst-cr--m14-02 -> the source ip was locked because of the failure of login through snmp.',\n",
              " 'gbn-0002-gst-cr--m14-02 -> the source ip was unlocked.',\n",
              " 'gbn-0002-gst-cr--m14-02 -> the source ip was locked because of the failure of login through snmp.',\n",
              " 'gbn-0002-gst-cr--m14-02 -> the source ip was unlocked.']"
            ]
          },
          "execution_count": 213,
          "metadata": {},
          "output_type": "execute_result"
        }
      ],
      "source": [
        "desc"
      ]
    },
    {
      "cell_type": "code",
      "execution_count": 214,
      "metadata": {
        "colab": {
          "base_uri": "https://localhost:8080/"
        },
        "id": "6Chz5wjm7B_T",
        "outputId": "2cc17484-9951-41b2-8593-27ca780f0203"
      },
      "outputs": [
        {
          "data": {
            "text/plain": [
              "14"
            ]
          },
          "execution_count": 214,
          "metadata": {},
          "output_type": "execute_result"
        }
      ],
      "source": [
        "len(desc)"
      ]
    },
    {
      "cell_type": "code",
      "execution_count": 215,
      "metadata": {
        "id": "UjoQ_wzqEznq"
      },
      "outputs": [],
      "source": [
        "import pandas as pd\n",
        "\n",
        "# Load log messages into a pandas DataFrame\n",
        "\n",
        "df = pd.DataFrame(desc, columns=['log'])"
      ]
    },
    {
      "cell_type": "code",
      "execution_count": 216,
      "metadata": {
        "colab": {
          "base_uri": "https://localhost:8080/",
          "height": 423
        },
        "collapsed": true,
        "id": "muLRwfDLE9Bu",
        "outputId": "7a47edf9-0a61-4d00-d9b7-de46e5706e13"
      },
      "outputs": [
        {
          "data": {
            "text/html": [
              "<div>\n",
              "<style scoped>\n",
              "    .dataframe tbody tr th:only-of-type {\n",
              "        vertical-align: middle;\n",
              "    }\n",
              "\n",
              "    .dataframe tbody tr th {\n",
              "        vertical-align: top;\n",
              "    }\n",
              "\n",
              "    .dataframe thead th {\n",
              "        text-align: right;\n",
              "    }\n",
              "</style>\n",
              "<table border=\"1\" class=\"dataframe\">\n",
              "  <thead>\n",
              "    <tr style=\"text-align: right;\">\n",
              "      <th></th>\n",
              "      <th>log</th>\n",
              "    </tr>\n",
              "  </thead>\n",
              "  <tbody>\n",
              "    <tr>\n",
              "      <th>0</th>\n",
              "      <td>gbn-0002-gst-cr--m14-02 -&gt; failed to login thr...</td>\n",
              "    </tr>\n",
              "    <tr>\n",
              "      <th>1</th>\n",
              "      <td>gbn-0002-gst-cr--m14-02 -&gt; log snmp/authentica...</td>\n",
              "    </tr>\n",
              "    <tr>\n",
              "      <th>2</th>\n",
              "      <td>gbn-0002-gst-cr--m14-02 -&gt; log snmp/snmp_authe...</td>\n",
              "    </tr>\n",
              "    <tr>\n",
              "      <th>3</th>\n",
              "      <td>gbn-0002-gst-cr--m14-02 -&gt; the ssh user failed...</td>\n",
              "    </tr>\n",
              "    <tr>\n",
              "      <th>4</th>\n",
              "      <td>gbn-0002-gst-cr--m14-02 -&gt; the ssh user failed...</td>\n",
              "    </tr>\n",
              "    <tr>\n",
              "      <th>5</th>\n",
              "      <td>gbn-0002-gst-cr--m14-02 -&gt; failed to login thr...</td>\n",
              "    </tr>\n",
              "    <tr>\n",
              "      <th>6</th>\n",
              "      <td>gbn-0002-gst-cr--m14-02 -&gt; failed to login thr...</td>\n",
              "    </tr>\n",
              "    <tr>\n",
              "      <th>7</th>\n",
              "      <td>gbn-0002-gst-cr--m14-02 -&gt; the source ip was l...</td>\n",
              "    </tr>\n",
              "    <tr>\n",
              "      <th>8</th>\n",
              "      <td>gbn-0002-gst-cr--m14-02 -&gt; the source ip was u...</td>\n",
              "    </tr>\n",
              "    <tr>\n",
              "      <th>9</th>\n",
              "      <td>gbn-0002-gst-cr--m14-02 -&gt; failed to login thr...</td>\n",
              "    </tr>\n",
              "    <tr>\n",
              "      <th>10</th>\n",
              "      <td>gbn-0002-gst-cr--m14-02 -&gt; the source ip was l...</td>\n",
              "    </tr>\n",
              "    <tr>\n",
              "      <th>11</th>\n",
              "      <td>gbn-0002-gst-cr--m14-02 -&gt; the source ip was u...</td>\n",
              "    </tr>\n",
              "    <tr>\n",
              "      <th>12</th>\n",
              "      <td>gbn-0002-gst-cr--m14-02 -&gt; the source ip was l...</td>\n",
              "    </tr>\n",
              "    <tr>\n",
              "      <th>13</th>\n",
              "      <td>gbn-0002-gst-cr--m14-02 -&gt; the source ip was u...</td>\n",
              "    </tr>\n",
              "  </tbody>\n",
              "</table>\n",
              "</div>"
            ],
            "text/plain": [
              "                                                  log\n",
              "0   gbn-0002-gst-cr--m14-02 -> failed to login thr...\n",
              "1   gbn-0002-gst-cr--m14-02 -> log snmp/authentica...\n",
              "2   gbn-0002-gst-cr--m14-02 -> log snmp/snmp_authe...\n",
              "3   gbn-0002-gst-cr--m14-02 -> the ssh user failed...\n",
              "4   gbn-0002-gst-cr--m14-02 -> the ssh user failed...\n",
              "5   gbn-0002-gst-cr--m14-02 -> failed to login thr...\n",
              "6   gbn-0002-gst-cr--m14-02 -> failed to login thr...\n",
              "7   gbn-0002-gst-cr--m14-02 -> the source ip was l...\n",
              "8   gbn-0002-gst-cr--m14-02 -> the source ip was u...\n",
              "9   gbn-0002-gst-cr--m14-02 -> failed to login thr...\n",
              "10  gbn-0002-gst-cr--m14-02 -> the source ip was l...\n",
              "11  gbn-0002-gst-cr--m14-02 -> the source ip was u...\n",
              "12  gbn-0002-gst-cr--m14-02 -> the source ip was l...\n",
              "13  gbn-0002-gst-cr--m14-02 -> the source ip was u..."
            ]
          },
          "execution_count": 216,
          "metadata": {},
          "output_type": "execute_result"
        }
      ],
      "source": [
        "df"
      ]
    },
    {
      "cell_type": "markdown",
      "metadata": {
        "id": "LQoolBH0Fi0l"
      },
      "source": [
        "STEP 2: Generate Embeddings with DistilBERT\n",
        "\n",
        "Instead of classifying into rigid categories, we'll use DistilBERT to generate embeddings for each log message. These embeddings represent the semantics of each log message in a vector space.\n",
        "\n"
      ]
    },
    {
      "cell_type": "code",
      "execution_count": 217,
      "metadata": {
        "colab": {
          "base_uri": "https://localhost:8080/",
          "height": 49,
          "referenced_widgets": [
            "5f1accc88c5746bb84ec95eef4399358",
            "382b07fe2de543dc8f5104511ca5a375",
            "fa17b7e071904cac9f30f201b9eec83e",
            "1f496498afe546cbb0218fcd1ad8b4d0",
            "2adf362d38d246719707e951c06cfd8f",
            "3cbaf2c6882848288040702770b25186",
            "b2e57ff24a8243cd875f75eb1681363a",
            "01b9c9d154f342c8ac206ebb0eacf6fe",
            "c9f853bfab8f42998fa2c33adad96358",
            "c73af4155d8245ed820982c34d88979a",
            "e87c55d82578453a92450675b5662923"
          ]
        },
        "id": "kh4z6JjMFm6Y",
        "outputId": "913e4a7d-b4e8-458e-8c6f-64075edfd461"
      },
      "outputs": [
        {
          "name": "stderr",
          "output_type": "stream",
          "text": [
            "c:\\Users\\prabhav.gupta\\OneDrive - In2IT Technologies Pvt Ltd\\Documents\\AIOps\\iSense\\distilBert\\venv\\lib\\site-packages\\transformers\\tokenization_utils_base.py:1601: FutureWarning: `clean_up_tokenization_spaces` was not set. It will be set to `True` by default. This behavior will be depracted in transformers v4.45, and will be then set to `False` by default. For more details check this issue: https://github.com/huggingface/transformers/issues/31884\n",
            "  warnings.warn(\n"
          ]
        }
      ],
      "source": [
        "from transformers import DistilBertTokenizer, DistilBertModel\n",
        "import torch\n",
        "\n",
        "# Load the tokenizer and model\n",
        "tokenizer = DistilBertTokenizer.from_pretrained('distilbert-base-uncased')\n",
        "model = DistilBertModel.from_pretrained('distilbert-base-uncased')\n",
        "\n",
        "# Tokenize the log messages\n",
        "inputs = tokenizer(df['log'].tolist(), return_tensors='pt', padding=True, truncation=True)\n",
        "\n",
        "# Generate embeddings using DistilBERT\n",
        "with torch.no_grad():\n",
        "    outputs = model(**inputs)\n",
        "    embeddings = outputs.last_hidden_state.mean(dim=1)  # Mean pooling to get sentence-level embeddings\n"
      ]
    },
    {
      "cell_type": "markdown",
      "metadata": {
        "id": "-MC-0U2bF60c"
      },
      "source": [
        "Step 3: Clustering the Embeddings\n",
        "Now that we have vector representations (embeddings) of each log message, we can apply clustering algorithms like K-Means, DBSCAN, or Agglomerative Clustering to group similar log messages together."
      ]
    },
    {
      "cell_type": "markdown",
      "metadata": {
        "id": "I93rOSSIGJ34"
      },
      "source": [
        "3.1 K-Means clustering (if you already know how many clusters)"
      ]
    },
    {
      "cell_type": "code",
      "execution_count": 218,
      "metadata": {
        "colab": {
          "base_uri": "https://localhost:8080/"
        },
        "id": "EsZ2r64zF76M",
        "outputId": "ea337bd2-bb0e-4567-a3fc-7eeb3e404c24"
      },
      "outputs": [],
      "source": [
        "# from sklearn.cluster import KMeans\n",
        "\n",
        "# # Define the number of clusters (you can experiment with this number)\n",
        "# num_clusters = 5\n",
        "\n",
        "# # Apply K-Means clustering\n",
        "# kmeans = KMeans(n_clusters=num_clusters, random_state=0)\n",
        "# df['cluster'] = kmeans.fit_predict(embeddings.numpy())"
      ]
    },
    {
      "cell_type": "markdown",
      "metadata": {
        "id": "9_PZXCq6GkCg"
      },
      "source": [
        "3.2 DBSCAN (if you dont know how many clusters)"
      ]
    },
    {
      "cell_type": "code",
      "execution_count": 219,
      "metadata": {
        "id": "FdAjhud0Gm9C"
      },
      "outputs": [],
      "source": [
        "from sklearn.cluster import DBSCAN\n",
        "\n",
        "# Apply DBSCAN clustering\n",
        "dbscan = DBSCAN(eps=0.5, min_samples=2)\n",
        "df['cluster'] = dbscan.fit_predict(embeddings.numpy())\n"
      ]
    },
    {
      "cell_type": "code",
      "execution_count": 220,
      "metadata": {},
      "outputs": [
        {
          "data": {
            "text/html": [
              "<div>\n",
              "<style scoped>\n",
              "    .dataframe tbody tr th:only-of-type {\n",
              "        vertical-align: middle;\n",
              "    }\n",
              "\n",
              "    .dataframe tbody tr th {\n",
              "        vertical-align: top;\n",
              "    }\n",
              "\n",
              "    .dataframe thead th {\n",
              "        text-align: right;\n",
              "    }\n",
              "</style>\n",
              "<table border=\"1\" class=\"dataframe\">\n",
              "  <thead>\n",
              "    <tr style=\"text-align: right;\">\n",
              "      <th></th>\n",
              "      <th>log</th>\n",
              "      <th>cluster</th>\n",
              "    </tr>\n",
              "  </thead>\n",
              "  <tbody>\n",
              "    <tr>\n",
              "      <th>0</th>\n",
              "      <td>gbn-0002-gst-cr--m14-02 -&gt; failed to login thr...</td>\n",
              "      <td>0</td>\n",
              "    </tr>\n",
              "    <tr>\n",
              "      <th>1</th>\n",
              "      <td>gbn-0002-gst-cr--m14-02 -&gt; log snmp/authentica...</td>\n",
              "      <td>-1</td>\n",
              "    </tr>\n",
              "    <tr>\n",
              "      <th>2</th>\n",
              "      <td>gbn-0002-gst-cr--m14-02 -&gt; log snmp/snmp_authe...</td>\n",
              "      <td>-1</td>\n",
              "    </tr>\n",
              "    <tr>\n",
              "      <th>3</th>\n",
              "      <td>gbn-0002-gst-cr--m14-02 -&gt; the ssh user failed...</td>\n",
              "      <td>1</td>\n",
              "    </tr>\n",
              "    <tr>\n",
              "      <th>4</th>\n",
              "      <td>gbn-0002-gst-cr--m14-02 -&gt; the ssh user failed...</td>\n",
              "      <td>1</td>\n",
              "    </tr>\n",
              "    <tr>\n",
              "      <th>5</th>\n",
              "      <td>gbn-0002-gst-cr--m14-02 -&gt; failed to login thr...</td>\n",
              "      <td>0</td>\n",
              "    </tr>\n",
              "    <tr>\n",
              "      <th>6</th>\n",
              "      <td>gbn-0002-gst-cr--m14-02 -&gt; failed to login thr...</td>\n",
              "      <td>2</td>\n",
              "    </tr>\n",
              "    <tr>\n",
              "      <th>7</th>\n",
              "      <td>gbn-0002-gst-cr--m14-02 -&gt; the source ip was l...</td>\n",
              "      <td>3</td>\n",
              "    </tr>\n",
              "    <tr>\n",
              "      <th>8</th>\n",
              "      <td>gbn-0002-gst-cr--m14-02 -&gt; the source ip was u...</td>\n",
              "      <td>4</td>\n",
              "    </tr>\n",
              "    <tr>\n",
              "      <th>9</th>\n",
              "      <td>gbn-0002-gst-cr--m14-02 -&gt; failed to login thr...</td>\n",
              "      <td>2</td>\n",
              "    </tr>\n",
              "    <tr>\n",
              "      <th>10</th>\n",
              "      <td>gbn-0002-gst-cr--m14-02 -&gt; the source ip was l...</td>\n",
              "      <td>3</td>\n",
              "    </tr>\n",
              "    <tr>\n",
              "      <th>11</th>\n",
              "      <td>gbn-0002-gst-cr--m14-02 -&gt; the source ip was u...</td>\n",
              "      <td>4</td>\n",
              "    </tr>\n",
              "    <tr>\n",
              "      <th>12</th>\n",
              "      <td>gbn-0002-gst-cr--m14-02 -&gt; the source ip was l...</td>\n",
              "      <td>3</td>\n",
              "    </tr>\n",
              "    <tr>\n",
              "      <th>13</th>\n",
              "      <td>gbn-0002-gst-cr--m14-02 -&gt; the source ip was u...</td>\n",
              "      <td>4</td>\n",
              "    </tr>\n",
              "  </tbody>\n",
              "</table>\n",
              "</div>"
            ],
            "text/plain": [
              "                                                  log  cluster\n",
              "0   gbn-0002-gst-cr--m14-02 -> failed to login thr...        0\n",
              "1   gbn-0002-gst-cr--m14-02 -> log snmp/authentica...       -1\n",
              "2   gbn-0002-gst-cr--m14-02 -> log snmp/snmp_authe...       -1\n",
              "3   gbn-0002-gst-cr--m14-02 -> the ssh user failed...        1\n",
              "4   gbn-0002-gst-cr--m14-02 -> the ssh user failed...        1\n",
              "5   gbn-0002-gst-cr--m14-02 -> failed to login thr...        0\n",
              "6   gbn-0002-gst-cr--m14-02 -> failed to login thr...        2\n",
              "7   gbn-0002-gst-cr--m14-02 -> the source ip was l...        3\n",
              "8   gbn-0002-gst-cr--m14-02 -> the source ip was u...        4\n",
              "9   gbn-0002-gst-cr--m14-02 -> failed to login thr...        2\n",
              "10  gbn-0002-gst-cr--m14-02 -> the source ip was l...        3\n",
              "11  gbn-0002-gst-cr--m14-02 -> the source ip was u...        4\n",
              "12  gbn-0002-gst-cr--m14-02 -> the source ip was l...        3\n",
              "13  gbn-0002-gst-cr--m14-02 -> the source ip was u...        4"
            ]
          },
          "execution_count": 220,
          "metadata": {},
          "output_type": "execute_result"
        }
      ],
      "source": [
        "df"
      ]
    },
    {
      "cell_type": "markdown",
      "metadata": {
        "id": "LGVOfLUaGNyN"
      },
      "source": [
        "Step 4: Visualizing and Analyzing the Clusters\n",
        "\n",
        "Once you've clustered the log messages, you can inspect each cluster and identify potential patterns."
      ]
    },
    {
      "cell_type": "code",
      "execution_count": 221,
      "metadata": {
        "colab": {
          "base_uri": "https://localhost:8080/"
        },
        "id": "rP4G6oI0GO0j",
        "outputId": "71db7b95-972a-4355-9535-dc94dc595745"
      },
      "outputs": [
        {
          "name": "stdout",
          "output_type": "stream",
          "text": [
            "Cluster 0:\n",
            "['gbn-0002-gst-cr--m14-02 -> failed to login through ssh 2 time', 'gbn-0002-gst-cr--m14-02 -> failed to login through ssh 2 time']\n",
            "\n",
            "\n",
            "Cluster -1:\n",
            "['gbn-0002-gst-cr--m14-02 -> log snmp/authenticationfailure is suppressed 1 in last 60 seconds.', 'gbn-0002-gst-cr--m14-02 -> log snmp/snmp_authen_failed is suppressed 1 in last 60 seconds.']\n",
            "\n",
            "\n",
            "Cluster 1:\n",
            "['gbn-0002-gst-cr--m14-02 -> the ssh user failed to login.', 'gbn-0002-gst-cr--m14-02 -> the ssh user failed to login.']\n",
            "\n",
            "\n",
            "Cluster 2:\n",
            "['gbn-0002-gst-cr--m14-02 -> failed to login through snmp.', 'gbn-0002-gst-cr--m14-02 -> failed to login through snmp.']\n",
            "\n",
            "\n",
            "Cluster 3:\n",
            "['gbn-0002-gst-cr--m14-02 -> the source ip was locked because of the failure of login through snmp.', 'gbn-0002-gst-cr--m14-02 -> the source ip was locked because of the failure of login through snmp.', 'gbn-0002-gst-cr--m14-02 -> the source ip was locked because of the failure of login through snmp.']\n",
            "\n",
            "\n",
            "Cluster 4:\n",
            "['gbn-0002-gst-cr--m14-02 -> the source ip was unlocked.', 'gbn-0002-gst-cr--m14-02 -> the source ip was unlocked.', 'gbn-0002-gst-cr--m14-02 -> the source ip was unlocked.']\n",
            "\n",
            "\n"
          ]
        }
      ],
      "source": [
        "# Group by cluster and inspect log messages\n",
        "final = []\n",
        "anomaly = []\n",
        "for cluster in df['cluster'].unique():\n",
        "    print(f\"Cluster {cluster}:\")\n",
        "    print(df[df['cluster'] == cluster]['log'].tolist())\n",
        "    ans = df[df['cluster'] == cluster]['log'].tolist()\n",
        "    if cluster == -1:\n",
        "        anomaly.append(ans)\n",
        "    else:    \n",
        "        final.append(ans)\n",
        "    print(\"\\n\")\n"
      ]
    },
    {
      "cell_type": "code",
      "execution_count": 222,
      "metadata": {},
      "outputs": [
        {
          "data": {
            "text/plain": [
              "[['gbn-0002-gst-cr--m14-02 -> failed to login through ssh 2 time',\n",
              "  'gbn-0002-gst-cr--m14-02 -> failed to login through ssh 2 time'],\n",
              " ['gbn-0002-gst-cr--m14-02 -> the ssh user failed to login.',\n",
              "  'gbn-0002-gst-cr--m14-02 -> the ssh user failed to login.'],\n",
              " ['gbn-0002-gst-cr--m14-02 -> failed to login through snmp.',\n",
              "  'gbn-0002-gst-cr--m14-02 -> failed to login through snmp.'],\n",
              " ['gbn-0002-gst-cr--m14-02 -> the source ip was locked because of the failure of login through snmp.',\n",
              "  'gbn-0002-gst-cr--m14-02 -> the source ip was locked because of the failure of login through snmp.',\n",
              "  'gbn-0002-gst-cr--m14-02 -> the source ip was locked because of the failure of login through snmp.'],\n",
              " ['gbn-0002-gst-cr--m14-02 -> the source ip was unlocked.',\n",
              "  'gbn-0002-gst-cr--m14-02 -> the source ip was unlocked.',\n",
              "  'gbn-0002-gst-cr--m14-02 -> the source ip was unlocked.']]"
            ]
          },
          "execution_count": 222,
          "metadata": {},
          "output_type": "execute_result"
        }
      ],
      "source": [
        "final"
      ]
    },
    {
      "cell_type": "code",
      "execution_count": 223,
      "metadata": {},
      "outputs": [
        {
          "data": {
            "text/plain": [
              "[['gbn-0002-gst-cr--m14-02 -> log snmp/authenticationfailure is suppressed 1 in last 60 seconds.',\n",
              "  'gbn-0002-gst-cr--m14-02 -> log snmp/snmp_authen_failed is suppressed 1 in last 60 seconds.']]"
            ]
          },
          "execution_count": 223,
          "metadata": {},
          "output_type": "execute_result"
        }
      ],
      "source": [
        "anomaly"
      ]
    },
    {
      "cell_type": "markdown",
      "metadata": {
        "id": "C3X7gai8O8yw"
      },
      "source": [
        "The clusters above tell us the seven major types of messages we are receiving in these logs. it will be helpful to deduplicate events and the unmber of clusters give an approximate idea of the distinct type of log messages."
      ]
    },
    {
      "cell_type": "code",
      "execution_count": 224,
      "metadata": {},
      "outputs": [],
      "source": [
        "types = len(final) + len(anomaly)\n",
        "\n",
        "headers = [\"DEVICE\", \"DE-DUPLICATED EVENTS\", \"FREQUENCY\"]\n",
        "cluster_rows = [elem[0] for elem in final]\n",
        "anomaly_rows = [anomaly[0][i] for i in range(len(anomaly[0]))]\n"
      ]
    },
    {
      "cell_type": "code",
      "execution_count": 225,
      "metadata": {},
      "outputs": [],
      "source": [
        "def get_frequencies(lst):\n",
        "    frequency_dict = {}\n",
        "    for item in lst:\n",
        "        if item in frequency_dict:\n",
        "            frequency_dict[item] += 1\n",
        "        else:\n",
        "            frequency_dict[item] = 1\n",
        "    return frequency_dict"
      ]
    },
    {
      "cell_type": "code",
      "execution_count": 226,
      "metadata": {},
      "outputs": [],
      "source": [
        "frequency_dict = get_frequencies(desc)"
      ]
    },
    {
      "cell_type": "code",
      "execution_count": 227,
      "metadata": {},
      "outputs": [],
      "source": [
        "cluster_vertical = []\n",
        "for c in cluster_rows:\n",
        "    ans = []\n",
        "    device, event = c.split('->')\n",
        "    ans.append(device.strip())\n",
        "    ans.append(event.strip())\n",
        "    ans.append(frequency_dict.get(c,1))\n",
        "    cluster_vertical.append(ans)\n"
      ]
    },
    {
      "cell_type": "code",
      "execution_count": 228,
      "metadata": {},
      "outputs": [
        {
          "data": {
            "text/plain": [
              "[['gbn-0002-gst-cr--m14-02', 'failed to login through ssh 2 time', 2],\n",
              " ['gbn-0002-gst-cr--m14-02', 'the ssh user failed to login.', 2],\n",
              " ['gbn-0002-gst-cr--m14-02', 'failed to login through snmp.', 2],\n",
              " ['gbn-0002-gst-cr--m14-02',\n",
              "  'the source ip was locked because of the failure of login through snmp.',\n",
              "  3],\n",
              " ['gbn-0002-gst-cr--m14-02', 'the source ip was unlocked.', 3]]"
            ]
          },
          "execution_count": 228,
          "metadata": {},
          "output_type": "execute_result"
        }
      ],
      "source": [
        "cluster_vertical"
      ]
    },
    {
      "cell_type": "code",
      "execution_count": 229,
      "metadata": {},
      "outputs": [],
      "source": [
        "anomaly_vertical = []\n",
        "for c in anomaly_rows:\n",
        "    ans = []\n",
        "    device, event = c.split('->')\n",
        "    ans.append(device.strip())\n",
        "    ans.append(event.strip())\n",
        "    ans.append(frequency_dict.get(c,1))\n",
        "    anomaly_vertical.append(ans)"
      ]
    },
    {
      "cell_type": "code",
      "execution_count": 230,
      "metadata": {},
      "outputs": [
        {
          "data": {
            "text/plain": [
              "[['gbn-0002-gst-cr--m14-02',\n",
              "  'log snmp/authenticationfailure is suppressed 1 in last 60 seconds.',\n",
              "  1],\n",
              " ['gbn-0002-gst-cr--m14-02',\n",
              "  'log snmp/snmp_authen_failed is suppressed 1 in last 60 seconds.',\n",
              "  1]]"
            ]
          },
          "execution_count": 230,
          "metadata": {},
          "output_type": "execute_result"
        }
      ],
      "source": [
        "anomaly_vertical"
      ]
    },
    {
      "cell_type": "code",
      "execution_count": 231,
      "metadata": {},
      "outputs": [],
      "source": [
        "\n",
        "# data = [headers,cluster_rows + anomaly_rows]\n",
        "data = [headers]\n",
        "for i in cluster_vertical:\n",
        "    data.append(i)\n",
        "for j in anomaly_vertical:\n",
        "    data.append(j)    "
      ]
    },
    {
      "cell_type": "code",
      "execution_count": 232,
      "metadata": {},
      "outputs": [
        {
          "data": {
            "text/plain": [
              "[['DEVICE', 'DE-DUPLICATED EVENTS', 'FREQUENCY'],\n",
              " ['gbn-0002-gst-cr--m14-02', 'failed to login through ssh 2 time', 2],\n",
              " ['gbn-0002-gst-cr--m14-02', 'the ssh user failed to login.', 2],\n",
              " ['gbn-0002-gst-cr--m14-02', 'failed to login through snmp.', 2],\n",
              " ['gbn-0002-gst-cr--m14-02',\n",
              "  'the source ip was locked because of the failure of login through snmp.',\n",
              "  3],\n",
              " ['gbn-0002-gst-cr--m14-02', 'the source ip was unlocked.', 3],\n",
              " ['gbn-0002-gst-cr--m14-02',\n",
              "  'log snmp/authenticationfailure is suppressed 1 in last 60 seconds.',\n",
              "  1],\n",
              " ['gbn-0002-gst-cr--m14-02',\n",
              "  'log snmp/snmp_authen_failed is suppressed 1 in last 60 seconds.',\n",
              "  1]]"
            ]
          },
          "execution_count": 232,
          "metadata": {},
          "output_type": "execute_result"
        }
      ],
      "source": [
        "data"
      ]
    },
    {
      "cell_type": "code",
      "execution_count": 233,
      "metadata": {
        "id": "5JuZ4Ea_GTJx"
      },
      "outputs": [],
      "source": [
        "# Specify the output file path\n",
        "output_filepath = 'log_categorization.csv'"
      ]
    },
    {
      "cell_type": "code",
      "execution_count": 234,
      "metadata": {},
      "outputs": [],
      "source": [
        "with open(output_filepath, mode='w', newline='', encoding='utf-8') as outfile:\n",
        "    csv_writer = csv.writer(outfile)  # Initialize CSV writer\n",
        "    csv_writer.writerows(data)"
      ]
    },
    {
      "cell_type": "code",
      "execution_count": 235,
      "metadata": {},
      "outputs": [],
      "source": [
        "from openpyxl import Workbook\n",
        "from openpyxl.styles import PatternFill"
      ]
    },
    {
      "cell_type": "code",
      "execution_count": 236,
      "metadata": {},
      "outputs": [],
      "source": [
        "# Create a new workbook and select the active worksheet\n",
        "wb = Workbook()\n",
        "ws = wb.active"
      ]
    },
    {
      "cell_type": "code",
      "execution_count": 237,
      "metadata": {},
      "outputs": [],
      "source": [
        "# Define a fill color for the header and entry rows\n",
        "header_fill = PatternFill(start_color='FFFF00', end_color='FFFF00', fill_type='solid')  # Yellow\n",
        "device_entry_fill = PatternFill(start_color='CCFFCC', end_color='CCFFCC', fill_type='solid')  # Light green\n",
        "event_entry_fill = PatternFill(start_color='FFA07A', end_color='FFA07A', fill_type='solid')  # light red\n",
        "frequence_entry_fill = PatternFill(start_color='ADD8E6', end_color='ADD8E6', fill_type='solid')  # Light blue\n"
      ]
    },
    {
      "cell_type": "code",
      "execution_count": 238,
      "metadata": {},
      "outputs": [],
      "source": [
        "\n",
        "# Add data to the worksheet, color the rows, and adjust column widths\n",
        "for row_index, row_data in enumerate(data):\n",
        "    for col_index, cell_value in enumerate(row_data):\n",
        "        cell = ws.cell(row=row_index + 1, column=col_index + 1, value=cell_value)\n",
        "        \n",
        "        # Color the header row\n",
        "        if row_index == 0:  # First row is the header\n",
        "            cell.fill = header_fill\n",
        "        else:\n",
        "            if col_index == 0:\n",
        "                cell.fill = device_entry_fill\n",
        "            elif col_index == 1:\n",
        "                cell.fill = event_entry_fill\n",
        "            elif col_index == 2:\n",
        "                cell.fill = frequence_entry_fill\n",
        "\n"
      ]
    },
    {
      "cell_type": "code",
      "execution_count": 239,
      "metadata": {},
      "outputs": [],
      "source": [
        "# Adjust column widths based on the length of the data\n",
        "for col in ws.columns:\n",
        "    max_length = 0\n",
        "    column = col[0].column_letter  # Get the column letter\n",
        "    for cell in col:\n",
        "        try:\n",
        "            if len(str(cell.value)) > max_length:\n",
        "                max_length = len(str(cell.value))\n",
        "        except:\n",
        "            pass\n",
        "    adjusted_width = max_length + 2  # Add some padding\n",
        "    ws.column_dimensions[column].width = adjusted_width"
      ]
    },
    {
      "cell_type": "code",
      "execution_count": 240,
      "metadata": {},
      "outputs": [],
      "source": [
        "# Save the workbook to a file\n",
        "output_filepath = 'log_categorization.xlsx'\n",
        "wb.save(output_filepath)"
      ]
    },
    {
      "cell_type": "code",
      "execution_count": null,
      "metadata": {},
      "outputs": [],
      "source": []
    }
  ],
  "metadata": {
    "colab": {
      "provenance": []
    },
    "kernelspec": {
      "display_name": "Python 3",
      "name": "python3"
    },
    "language_info": {
      "codemirror_mode": {
        "name": "ipython",
        "version": 3
      },
      "file_extension": ".py",
      "mimetype": "text/x-python",
      "name": "python",
      "nbconvert_exporter": "python",
      "pygments_lexer": "ipython3",
      "version": "3.10.11"
    },
    "widgets": {
      "application/vnd.jupyter.widget-state+json": {
        "01b9c9d154f342c8ac206ebb0eacf6fe": {
          "model_module": "@jupyter-widgets/base",
          "model_module_version": "1.2.0",
          "model_name": "LayoutModel",
          "state": {
            "_model_module": "@jupyter-widgets/base",
            "_model_module_version": "1.2.0",
            "_model_name": "LayoutModel",
            "_view_count": null,
            "_view_module": "@jupyter-widgets/base",
            "_view_module_version": "1.2.0",
            "_view_name": "LayoutView",
            "align_content": null,
            "align_items": null,
            "align_self": null,
            "border": null,
            "bottom": null,
            "display": null,
            "flex": null,
            "flex_flow": null,
            "grid_area": null,
            "grid_auto_columns": null,
            "grid_auto_flow": null,
            "grid_auto_rows": null,
            "grid_column": null,
            "grid_gap": null,
            "grid_row": null,
            "grid_template_areas": null,
            "grid_template_columns": null,
            "grid_template_rows": null,
            "height": null,
            "justify_content": null,
            "justify_items": null,
            "left": null,
            "margin": null,
            "max_height": null,
            "max_width": null,
            "min_height": null,
            "min_width": null,
            "object_fit": null,
            "object_position": null,
            "order": null,
            "overflow": null,
            "overflow_x": null,
            "overflow_y": null,
            "padding": null,
            "right": null,
            "top": null,
            "visibility": null,
            "width": null
          }
        },
        "1f496498afe546cbb0218fcd1ad8b4d0": {
          "model_module": "@jupyter-widgets/controls",
          "model_module_version": "1.5.0",
          "model_name": "HTMLModel",
          "state": {
            "_dom_classes": [],
            "_model_module": "@jupyter-widgets/controls",
            "_model_module_version": "1.5.0",
            "_model_name": "HTMLModel",
            "_view_count": null,
            "_view_module": "@jupyter-widgets/controls",
            "_view_module_version": "1.5.0",
            "_view_name": "HTMLView",
            "description": "",
            "description_tooltip": null,
            "layout": "IPY_MODEL_c73af4155d8245ed820982c34d88979a",
            "placeholder": "​",
            "style": "IPY_MODEL_e87c55d82578453a92450675b5662923",
            "value": " 268M/268M [00:04&lt;00:00, 47.8MB/s]"
          }
        },
        "2adf362d38d246719707e951c06cfd8f": {
          "model_module": "@jupyter-widgets/base",
          "model_module_version": "1.2.0",
          "model_name": "LayoutModel",
          "state": {
            "_model_module": "@jupyter-widgets/base",
            "_model_module_version": "1.2.0",
            "_model_name": "LayoutModel",
            "_view_count": null,
            "_view_module": "@jupyter-widgets/base",
            "_view_module_version": "1.2.0",
            "_view_name": "LayoutView",
            "align_content": null,
            "align_items": null,
            "align_self": null,
            "border": null,
            "bottom": null,
            "display": null,
            "flex": null,
            "flex_flow": null,
            "grid_area": null,
            "grid_auto_columns": null,
            "grid_auto_flow": null,
            "grid_auto_rows": null,
            "grid_column": null,
            "grid_gap": null,
            "grid_row": null,
            "grid_template_areas": null,
            "grid_template_columns": null,
            "grid_template_rows": null,
            "height": null,
            "justify_content": null,
            "justify_items": null,
            "left": null,
            "margin": null,
            "max_height": null,
            "max_width": null,
            "min_height": null,
            "min_width": null,
            "object_fit": null,
            "object_position": null,
            "order": null,
            "overflow": null,
            "overflow_x": null,
            "overflow_y": null,
            "padding": null,
            "right": null,
            "top": null,
            "visibility": null,
            "width": null
          }
        },
        "382b07fe2de543dc8f5104511ca5a375": {
          "model_module": "@jupyter-widgets/controls",
          "model_module_version": "1.5.0",
          "model_name": "HTMLModel",
          "state": {
            "_dom_classes": [],
            "_model_module": "@jupyter-widgets/controls",
            "_model_module_version": "1.5.0",
            "_model_name": "HTMLModel",
            "_view_count": null,
            "_view_module": "@jupyter-widgets/controls",
            "_view_module_version": "1.5.0",
            "_view_name": "HTMLView",
            "description": "",
            "description_tooltip": null,
            "layout": "IPY_MODEL_3cbaf2c6882848288040702770b25186",
            "placeholder": "​",
            "style": "IPY_MODEL_b2e57ff24a8243cd875f75eb1681363a",
            "value": "model.safetensors: 100%"
          }
        },
        "3cbaf2c6882848288040702770b25186": {
          "model_module": "@jupyter-widgets/base",
          "model_module_version": "1.2.0",
          "model_name": "LayoutModel",
          "state": {
            "_model_module": "@jupyter-widgets/base",
            "_model_module_version": "1.2.0",
            "_model_name": "LayoutModel",
            "_view_count": null,
            "_view_module": "@jupyter-widgets/base",
            "_view_module_version": "1.2.0",
            "_view_name": "LayoutView",
            "align_content": null,
            "align_items": null,
            "align_self": null,
            "border": null,
            "bottom": null,
            "display": null,
            "flex": null,
            "flex_flow": null,
            "grid_area": null,
            "grid_auto_columns": null,
            "grid_auto_flow": null,
            "grid_auto_rows": null,
            "grid_column": null,
            "grid_gap": null,
            "grid_row": null,
            "grid_template_areas": null,
            "grid_template_columns": null,
            "grid_template_rows": null,
            "height": null,
            "justify_content": null,
            "justify_items": null,
            "left": null,
            "margin": null,
            "max_height": null,
            "max_width": null,
            "min_height": null,
            "min_width": null,
            "object_fit": null,
            "object_position": null,
            "order": null,
            "overflow": null,
            "overflow_x": null,
            "overflow_y": null,
            "padding": null,
            "right": null,
            "top": null,
            "visibility": null,
            "width": null
          }
        },
        "5f1accc88c5746bb84ec95eef4399358": {
          "model_module": "@jupyter-widgets/controls",
          "model_module_version": "1.5.0",
          "model_name": "HBoxModel",
          "state": {
            "_dom_classes": [],
            "_model_module": "@jupyter-widgets/controls",
            "_model_module_version": "1.5.0",
            "_model_name": "HBoxModel",
            "_view_count": null,
            "_view_module": "@jupyter-widgets/controls",
            "_view_module_version": "1.5.0",
            "_view_name": "HBoxView",
            "box_style": "",
            "children": [
              "IPY_MODEL_382b07fe2de543dc8f5104511ca5a375",
              "IPY_MODEL_fa17b7e071904cac9f30f201b9eec83e",
              "IPY_MODEL_1f496498afe546cbb0218fcd1ad8b4d0"
            ],
            "layout": "IPY_MODEL_2adf362d38d246719707e951c06cfd8f"
          }
        },
        "b2e57ff24a8243cd875f75eb1681363a": {
          "model_module": "@jupyter-widgets/controls",
          "model_module_version": "1.5.0",
          "model_name": "DescriptionStyleModel",
          "state": {
            "_model_module": "@jupyter-widgets/controls",
            "_model_module_version": "1.5.0",
            "_model_name": "DescriptionStyleModel",
            "_view_count": null,
            "_view_module": "@jupyter-widgets/base",
            "_view_module_version": "1.2.0",
            "_view_name": "StyleView",
            "description_width": ""
          }
        },
        "c73af4155d8245ed820982c34d88979a": {
          "model_module": "@jupyter-widgets/base",
          "model_module_version": "1.2.0",
          "model_name": "LayoutModel",
          "state": {
            "_model_module": "@jupyter-widgets/base",
            "_model_module_version": "1.2.0",
            "_model_name": "LayoutModel",
            "_view_count": null,
            "_view_module": "@jupyter-widgets/base",
            "_view_module_version": "1.2.0",
            "_view_name": "LayoutView",
            "align_content": null,
            "align_items": null,
            "align_self": null,
            "border": null,
            "bottom": null,
            "display": null,
            "flex": null,
            "flex_flow": null,
            "grid_area": null,
            "grid_auto_columns": null,
            "grid_auto_flow": null,
            "grid_auto_rows": null,
            "grid_column": null,
            "grid_gap": null,
            "grid_row": null,
            "grid_template_areas": null,
            "grid_template_columns": null,
            "grid_template_rows": null,
            "height": null,
            "justify_content": null,
            "justify_items": null,
            "left": null,
            "margin": null,
            "max_height": null,
            "max_width": null,
            "min_height": null,
            "min_width": null,
            "object_fit": null,
            "object_position": null,
            "order": null,
            "overflow": null,
            "overflow_x": null,
            "overflow_y": null,
            "padding": null,
            "right": null,
            "top": null,
            "visibility": null,
            "width": null
          }
        },
        "c9f853bfab8f42998fa2c33adad96358": {
          "model_module": "@jupyter-widgets/controls",
          "model_module_version": "1.5.0",
          "model_name": "ProgressStyleModel",
          "state": {
            "_model_module": "@jupyter-widgets/controls",
            "_model_module_version": "1.5.0",
            "_model_name": "ProgressStyleModel",
            "_view_count": null,
            "_view_module": "@jupyter-widgets/base",
            "_view_module_version": "1.2.0",
            "_view_name": "StyleView",
            "bar_color": null,
            "description_width": ""
          }
        },
        "e87c55d82578453a92450675b5662923": {
          "model_module": "@jupyter-widgets/controls",
          "model_module_version": "1.5.0",
          "model_name": "DescriptionStyleModel",
          "state": {
            "_model_module": "@jupyter-widgets/controls",
            "_model_module_version": "1.5.0",
            "_model_name": "DescriptionStyleModel",
            "_view_count": null,
            "_view_module": "@jupyter-widgets/base",
            "_view_module_version": "1.2.0",
            "_view_name": "StyleView",
            "description_width": ""
          }
        },
        "fa17b7e071904cac9f30f201b9eec83e": {
          "model_module": "@jupyter-widgets/controls",
          "model_module_version": "1.5.0",
          "model_name": "FloatProgressModel",
          "state": {
            "_dom_classes": [],
            "_model_module": "@jupyter-widgets/controls",
            "_model_module_version": "1.5.0",
            "_model_name": "FloatProgressModel",
            "_view_count": null,
            "_view_module": "@jupyter-widgets/controls",
            "_view_module_version": "1.5.0",
            "_view_name": "ProgressView",
            "bar_style": "success",
            "description": "",
            "description_tooltip": null,
            "layout": "IPY_MODEL_01b9c9d154f342c8ac206ebb0eacf6fe",
            "max": 267954768,
            "min": 0,
            "orientation": "horizontal",
            "style": "IPY_MODEL_c9f853bfab8f42998fa2c33adad96358",
            "value": 267954768
          }
        }
      }
    }
  },
  "nbformat": 4,
  "nbformat_minor": 0
}
