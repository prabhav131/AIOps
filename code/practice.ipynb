{
 "cells": [
  {
   "cell_type": "code",
   "execution_count": 19,
   "metadata": {},
   "outputs": [],
   "source": [
    "import json\n",
    "import re"
   ]
  },
  {
   "cell_type": "code",
   "execution_count": 1,
   "metadata": {},
   "outputs": [],
   "source": [
    "live_message = '{\"schema\":null,\"payload\":\"<189>Aug 26 2024 17:22:17 GBN-0002_GST-CR_M14-01 %%01CLI/5/LOGINFAILED(s):CID=0x80ca2713;The user failed to log in to VTY1. (UserType=Telnet, UserName=root, RemoteIp=45.230.66.18, VpnName=GPG.INT, Reason=the terminal was closed, LocalIp=66.8.6.65)\"}'"
   ]
  },
  {
   "cell_type": "code",
   "execution_count": 6,
   "metadata": {},
   "outputs": [],
   "source": [
    "dictt = json.loads(live_message)"
   ]
  },
  {
   "cell_type": "code",
   "execution_count": 7,
   "metadata": {},
   "outputs": [
    {
     "data": {
      "text/plain": [
       "{'schema': None,\n",
       " 'payload': '<189>Aug 26 2024 17:22:17 GBN-0002_GST-CR_M14-01 %%01CLI/5/LOGINFAILED(s):CID=0x80ca2713;The user failed to log in to VTY1. (UserType=Telnet, UserName=root, RemoteIp=45.230.66.18, VpnName=GPG.INT, Reason=the terminal was closed, LocalIp=66.8.6.65)'}"
      ]
     },
     "execution_count": 7,
     "metadata": {},
     "output_type": "execute_result"
    }
   ],
   "source": [
    "dictt"
   ]
  },
  {
   "cell_type": "code",
   "execution_count": 9,
   "metadata": {},
   "outputs": [],
   "source": [
    "st= dictt['payload']"
   ]
  },
  {
   "cell_type": "code",
   "execution_count": 10,
   "metadata": {},
   "outputs": [
    {
     "data": {
      "text/plain": [
       "4"
      ]
     },
     "execution_count": 10,
     "metadata": {},
     "output_type": "execute_result"
    }
   ],
   "source": [
    "st.find(\">\")"
   ]
  },
  {
   "cell_type": "code",
   "execution_count": 11,
   "metadata": {},
   "outputs": [],
   "source": [
    "newst = st[5:]"
   ]
  },
  {
   "cell_type": "code",
   "execution_count": 12,
   "metadata": {},
   "outputs": [
    {
     "data": {
      "text/plain": [
       "'Aug 26 2024 17:22:17 GBN-0002_GST-CR_M14-01 %%01CLI/5/LOGINFAILED(s):CID=0x80ca2713;The user failed to log in to VTY1. (UserType=Telnet, UserName=root, RemoteIp=45.230.66.18, VpnName=GPG.INT, Reason=the terminal was closed, LocalIp=66.8.6.65)'"
      ]
     },
     "execution_count": 12,
     "metadata": {},
     "output_type": "execute_result"
    }
   ],
   "source": [
    "newst"
   ]
  },
  {
   "cell_type": "code",
   "execution_count": 13,
   "metadata": {},
   "outputs": [],
   "source": [
    "def standardising_live_message(message):\n",
    "    message_dict = json.loads(message)\n",
    "    raw_msg = message_dict.get('payload','')\n",
    "    if raw_msg != '':\n",
    "        index = raw_msg.find('>')\n",
    "        msg_str = raw_msg[index+1:]\n",
    "        return msg_str\n",
    "    else:\n",
    "        return ''    \n",
    "        "
   ]
  },
  {
   "cell_type": "code",
   "execution_count": 14,
   "metadata": {},
   "outputs": [],
   "source": [
    "output = standardising_live_message(live_message)"
   ]
  },
  {
   "cell_type": "code",
   "execution_count": 15,
   "metadata": {},
   "outputs": [
    {
     "data": {
      "text/plain": [
       "'Aug 26 2024 17:22:17 GBN-0002_GST-CR_M14-01 %%01CLI/5/LOGINFAILED(s):CID=0x80ca2713;The user failed to log in to VTY1. (UserType=Telnet, UserName=root, RemoteIp=45.230.66.18, VpnName=GPG.INT, Reason=the terminal was closed, LocalIp=66.8.6.65)'"
      ]
     },
     "execution_count": 15,
     "metadata": {},
     "output_type": "execute_result"
    }
   ],
   "source": [
    "output"
   ]
  },
  {
   "cell_type": "code",
   "execution_count": 16,
   "metadata": {},
   "outputs": [
    {
     "name": "stdout",
     "output_type": "stream",
     "text": [
      "<class 'str'>\n"
     ]
    }
   ],
   "source": [
    "print(type(output))"
   ]
  },
  {
   "cell_type": "code",
   "execution_count": 18,
   "metadata": {},
   "outputs": [],
   "source": [
    "pattern1 = r\"(?P<vendor>[A-Z]+)-(?P<physical_site_id>\\d+)_(?P<geolocation_code>[A-Z\\d]+)-(?P<router_type>[A-Z\\d]+)_(?P<router_model_number>[A-Z\\d]+)-(?P<router_importance>[A-Z\\d]+) (?P<vendor_identifier>%%)(?P<version_number>\\d+)(?P<module_name>[A-Z]+)/(?P<severity>\\d+)/(?P<log_type>[A-Z_]+)(?P<log_status>[\\(\\)a-z]+):CID=(?P<cid>[0-9a-zA-Z]+);(?P<description>.+)\"\n"
   ]
  },
  {
   "cell_type": "code",
   "execution_count": 20,
   "metadata": {},
   "outputs": [],
   "source": [
    "match = re.search(pattern=pattern1,string=output)"
   ]
  },
  {
   "cell_type": "code",
   "execution_count": 21,
   "metadata": {},
   "outputs": [
    {
     "data": {
      "text/plain": [
       "<re.Match object; span=(21, 242), match='GBN-0002_GST-CR_M14-01 %%01CLI/5/LOGINFAILED(s):C>"
      ]
     },
     "execution_count": 21,
     "metadata": {},
     "output_type": "execute_result"
    }
   ],
   "source": [
    "match"
   ]
  },
  {
   "cell_type": "code",
   "execution_count": 22,
   "metadata": {},
   "outputs": [
    {
     "name": "stdout",
     "output_type": "stream",
     "text": [
      "{'vendor': 'GBN', 'physical_site_id': '0002', 'geolocation_code': 'GST', 'router_type': 'CR', 'router_model_number': 'M14', 'router_importance': '01', 'vendor_identifier': '%%', 'version_number': '01', 'module_name': 'CLI', 'severity': '5', 'log_type': 'LOGINFAILED', 'log_status': '(s)', 'cid': '0x80ca2713', 'description': 'The user failed to log in to VTY1. (UserType=Telnet, UserName=root, RemoteIp=45.230.66.18, VpnName=GPG.INT, Reason=the terminal was closed, LocalIp=66.8.6.65)'}\n"
     ]
    }
   ],
   "source": [
    "print(match.groupdict())"
   ]
  },
  {
   "cell_type": "code",
   "execution_count": 31,
   "metadata": {},
   "outputs": [],
   "source": [
    "from syslog_processing import *"
   ]
  },
  {
   "cell_type": "code",
   "execution_count": 32,
   "metadata": {},
   "outputs": [],
   "source": [
    "import time"
   ]
  },
  {
   "cell_type": "code",
   "execution_count": 33,
   "metadata": {},
   "outputs": [],
   "source": [
    "processing = Processing() # creating object"
   ]
  },
  {
   "cell_type": "code",
   "execution_count": 39,
   "metadata": {},
   "outputs": [],
   "source": [
    "live_msg = '{\"schema\":null,\"payload\":\"<189>Aug 27 2024 08:11:11 GBN-0002_GST-CR_M14-02 %%01SSH/5/SSH_USER_LOGIN_FAIL(s):CID=0x80930446;The SSH user failed to login. (ServiceType=**, FailedReason=The authentication server has no response., UserName=nms_admin, UserAddress=172.31.25.125, LocalAddress=172.31.0.104, VPNInstanceName=_public_)\"}'"
   ]
  },
  {
   "cell_type": "code",
   "execution_count": 40,
   "metadata": {},
   "outputs": [],
   "source": [
    "receiving_time = time.time()"
   ]
  },
  {
   "cell_type": "code",
   "execution_count": 41,
   "metadata": {},
   "outputs": [],
   "source": [
    "ans = processing.end_to_end_processing_single_live_message(receiving_time=receiving_time, json_string_live_message=live_msg)"
   ]
  },
  {
   "cell_type": "code",
   "execution_count": 42,
   "metadata": {},
   "outputs": [
    {
     "data": {
      "text/plain": [
       "{'timestamp_of_received_log': '1725284573.0680718',\n",
       " 'timestamp_of_message': 'Aug 27 2024 08:11:11',\n",
       " 'year': 2024,\n",
       " 'month': 8,\n",
       " 'day_of_month': 27,\n",
       " 'hour': 8,\n",
       " 'minute': 11,\n",
       " 'second': 11,\n",
       " 'millisecond': 0,\n",
       " 'day_of_week': 1,\n",
       " 'day_of_year': 240,\n",
       " 'week_of_year': 35,\n",
       " 'is_weekend': 0,\n",
       " 'seconds_since_midnight': 29471,\n",
       " 'time_of_day_bucket': 'Morning',\n",
       " 'vendor': 'GBN',\n",
       " 'physical_site_id': '0002',\n",
       " 'geolocation_code': 'GST',\n",
       " 'router_type': 'CR',\n",
       " 'router_model_number': 'M14',\n",
       " 'router_importance': '02',\n",
       " 'vendor_identifier': '%%',\n",
       " 'version_number': '01',\n",
       " 'module_name': 'SSH',\n",
       " 'severity': '5',\n",
       " 'log_type': 'SSH_USER_LOGIN_FAIL',\n",
       " 'log_status': '(s)',\n",
       " 'cid': '0x80930446',\n",
       " 'description': 'The SSH user failed to login. (ServiceType=**, FailedReason=The authentication server has no response., UserName=nms_admin, UserAddress=172.31.25.125, LocalAddress=172.31.0.104, VPNInstanceName=_public_)',\n",
       " 'metadata': 'ServiceType=**, FailedReason=The authentication server has no response., UserName=nms_admin, UserAddress=172.31.25.125, LocalAddress=172.31.0.104, VPNInstanceName=_public_'}"
      ]
     },
     "execution_count": 42,
     "metadata": {},
     "output_type": "execute_result"
    }
   ],
   "source": [
    "ans"
   ]
  },
  {
   "cell_type": "code",
   "execution_count": null,
   "metadata": {},
   "outputs": [],
   "source": []
  }
 ],
 "metadata": {
  "kernelspec": {
   "display_name": "venv",
   "language": "python",
   "name": "python3"
  },
  "language_info": {
   "codemirror_mode": {
    "name": "ipython",
    "version": 3
   },
   "file_extension": ".py",
   "mimetype": "text/x-python",
   "name": "python",
   "nbconvert_exporter": "python",
   "pygments_lexer": "ipython3",
   "version": "3.10.11"
  }
 },
 "nbformat": 4,
 "nbformat_minor": 2
}
