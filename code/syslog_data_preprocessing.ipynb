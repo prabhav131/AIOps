{
 "cells": [
  {
   "cell_type": "code",
   "execution_count": 1,
   "metadata": {},
   "outputs": [],
   "source": [
    "from pygrok import Grok"
   ]
  },
  {
   "cell_type": "code",
   "execution_count": 2,
   "metadata": {},
   "outputs": [],
   "source": [
    "pattern1 = r\"%{MONTH:month} %{MONTHDAY:day} %{YEAR:year} %{TIME:time} %{DATA:host} %%%{NUMBER:versionNumber}%{DATA:moduleName}/%{NUMBER:severity}/%{WORD:logType}%{GREEDYDATA:description}\""
   ]
  },
  {
   "cell_type": "code",
   "execution_count": 3,
   "metadata": {},
   "outputs": [],
   "source": [
    "grok = Grok(pattern1)"
   ]
  },
  {
   "cell_type": "code",
   "execution_count": 4,
   "metadata": {},
   "outputs": [],
   "source": [
    "log_entry1= \"Jun 11 2024 11:52:42 GPN-0003_TRC-CR_X8-01 %%01OSPF/4/CONFLICT_ROUTERID_INTF(l):CID=0x8082047e;OSPF router ID conflict is detected on the interface.(ProcessId=801, RouterId=10.0.0.10, AreaId=0.0.0.0, InterfaceName=GigabitEthernet6/0/11.801, IpAddr=10.0.0.22, PacketSrcIp=10.0.0.10)\""
   ]
  },
  {
   "cell_type": "code",
   "execution_count": 5,
   "metadata": {},
   "outputs": [],
   "source": [
    "matching = grok.match(log_entry1)"
   ]
  },
  {
   "cell_type": "code",
   "execution_count": 6,
   "metadata": {},
   "outputs": [
    {
     "name": "stdout",
     "output_type": "stream",
     "text": [
      "{'month': 'Jun', 'day': '11', 'year': '2024', 'time': '11:52:42', 'host': 'GPN-0003_TRC-CR_X8-01', 'versionNumber': '01', 'moduleName': 'OSPF', 'severity': '4', 'logType': 'CONFLICT_ROUTERID_INTF', 'description': '(l):CID=0x8082047e;OSPF router ID conflict is detected on the interface.(ProcessId=801, RouterId=10.0.0.10, AreaId=0.0.0.0, InterfaceName=GigabitEthernet6/0/11.801, IpAddr=10.0.0.22, PacketSrcIp=10.0.0.10)'}\n"
     ]
    }
   ],
   "source": [
    "print(matching)"
   ]
  },
  {
   "cell_type": "code",
   "execution_count": 7,
   "metadata": {},
   "outputs": [
    {
     "name": "stdout",
     "output_type": "stream",
     "text": [
      "<class 'dict'>\n"
     ]
    }
   ],
   "source": [
    "print(type(matching))"
   ]
  },
  {
   "cell_type": "code",
   "execution_count": 8,
   "metadata": {},
   "outputs": [],
   "source": [
    "regex_pattern1 = r\"(?P<vendor>[A-Z]+)-(?P<physical_site_id>\\d+)_(?P<geolocation_code>[A-Z\\d]+)-(?P<router_type>[A-Z\\d]+)_(?P<router_model_number>[A-Z\\d]+)-(?P<router_importance>[A-Z\\d]+) (?P<vendor_identifier>%%)(?P<version_number>\\d+)(?P<module_name>[A-Z]+)/(?P<severity>\\d+)/(?P<log_type>[A-Z_]+)(?P<log_status>[\\(\\)a-z]+):CID=(?P<cid>[0-9a-zA-Z]+);(?P<description>.+)\"\n"
   ]
  },
  {
   "cell_type": "code",
   "execution_count": 14,
   "metadata": {},
   "outputs": [],
   "source": [
    "from datetime import datetime"
   ]
  },
  {
   "cell_type": "code",
   "execution_count": 15,
   "metadata": {},
   "outputs": [],
   "source": [
    "def extract_time_info(message):\n",
    "    # Extract timestamp\n",
    "    timestamp_str = message.split(' ')[0:4]\n",
    "    timestamp_str = ' '.join(timestamp_str)\n",
    "    dt = datetime.strptime(timestamp_str, \"%b %d %Y %H:%M:%S\")\n",
    "    year = dt.year\n",
    "    month = dt.month\n",
    "    day_of_month = dt.day\n",
    "    hour = dt.hour\n",
    "    minute = dt.minute\n",
    "    second = dt.second\n",
    "    millisecond = dt.microsecond // 1000\n",
    "    day_of_week = dt.weekday()  # Monday = 0, Sunday = 6\n",
    "    day_of_year = dt.timetuple().tm_yday\n",
    "    week_of_year = dt.isocalendar()[1]\n",
    "    is_weekend = int(dt.weekday() >= 5)\n",
    "    seconds_since_midnight = hour * 3600 + minute * 60 + second\n",
    "    time_of_day_bucket = 'Morning' if hour < 12 else 'Afternoon' if hour < 18 else 'Evening' if hour < 21 else 'Night'\n",
    "    time_dict = {\n",
    "        'timestamp': timestamp_str,\n",
    "        'year': year,\n",
    "        'month': month,\n",
    "        'day_of_month': day_of_month,\n",
    "        'hour': hour,\n",
    "        'minute': minute,\n",
    "        'second': second,\n",
    "        'millisecond': millisecond,\n",
    "        'day_of_week': day_of_week,\n",
    "        'day_of_year': day_of_year,\n",
    "        'week_of_year': week_of_year,\n",
    "        'is_weekend': is_weekend,\n",
    "        'seconds_since_midnight': seconds_since_midnight,\n",
    "        'time_of_day_bucket': time_of_day_bucket\n",
    "    }\n",
    "    return time_dict"
   ]
  },
  {
   "cell_type": "code",
   "execution_count": 16,
   "metadata": {},
   "outputs": [],
   "source": [
    "def remove_time_info_from_message(message):\n",
    "    # Find the position of the first colon\n",
    "    first_colon_pos = message.find(':')\n",
    "\n",
    "    # Find the position of the second colon by starting the search after the first colon\n",
    "    second_colon_pos = message.find(':', first_colon_pos + 1)\n",
    "\n",
    "    # Slice the string two characters after the second colon\n",
    "    truncated_message = message[second_colon_pos + 4:]\n",
    "\n",
    "    # Print the truncated message\n",
    "    return truncated_message"
   ]
  },
  {
   "cell_type": "code",
   "execution_count": 62,
   "metadata": {},
   "outputs": [],
   "source": [
    "# raw_message = 'Jun 11 2024 11:53:06 GPN-0277_DAV-CLI_S57-01 %%01SNMP/4/SNMP_FAIL(l)[66039]:Failed to login through SNMP. (Ip=172.31.251.25, Times=3, Reason=decoded PDU error)'\n",
    "raw_message = 'Jun 11 2024 11:52:55 GPN-2623_PRO-ART-APL-PAR_S57-01 %%01SSH/5/SSH_CONNECT_CLOSED(s)[25804]:SSH connect was closed. (IP=172.31.251.24, VPNInstanceName= , UserName=)'"
   ]
  },
  {
   "cell_type": "code",
   "execution_count": 63,
   "metadata": {},
   "outputs": [],
   "source": [
    "time_dict = extract_time_info(message=raw_message)"
   ]
  },
  {
   "cell_type": "code",
   "execution_count": 64,
   "metadata": {},
   "outputs": [
    {
     "data": {
      "text/plain": [
       "{'timestamp': 'Jun 11 2024 11:52:55',\n",
       " 'year': 2024,\n",
       " 'month': 6,\n",
       " 'day_of_month': 11,\n",
       " 'hour': 11,\n",
       " 'minute': 52,\n",
       " 'second': 55,\n",
       " 'millisecond': 0,\n",
       " 'day_of_week': 1,\n",
       " 'day_of_year': 163,\n",
       " 'week_of_year': 24,\n",
       " 'is_weekend': 0,\n",
       " 'seconds_since_midnight': 42775,\n",
       " 'time_of_day_bucket': 'Morning'}"
      ]
     },
     "execution_count": 64,
     "metadata": {},
     "output_type": "execute_result"
    }
   ],
   "source": [
    "time_dict"
   ]
  },
  {
   "cell_type": "code",
   "execution_count": 65,
   "metadata": {},
   "outputs": [],
   "source": [
    "truncated_message = remove_time_info_from_message(message=raw_message)"
   ]
  },
  {
   "cell_type": "code",
   "execution_count": 66,
   "metadata": {},
   "outputs": [
    {
     "data": {
      "text/plain": [
       "'GPN-2623_PRO-ART-APL-PAR_S57-01 %%01SSH/5/SSH_CONNECT_CLOSED(s)[25804]:SSH connect was closed. (IP=172.31.251.24, VPNInstanceName= , UserName=)'"
      ]
     },
     "execution_count": 66,
     "metadata": {},
     "output_type": "execute_result"
    }
   ],
   "source": [
    "truncated_message"
   ]
  },
  {
   "cell_type": "code",
   "execution_count": 67,
   "metadata": {},
   "outputs": [],
   "source": [
    "# regex_pattern2 = r\"(?P<vendor>[A-Z]+)-(?P<physical_site_id>\\d+)_(?P<geolocation_code>[A-Z\\d]+)-(?P<router_type>[A-Z\\d]+)_(?P<router_model_number>[A-Z\\d]+)-(?P<router_importance>[A-Z\\d]+) (?P<vendor_identifier>%%)(?P<version_number>\\d+)(?P<module_name>[A-Z]+)/(?P<severity>\\d+)/(?P<log_type>[A-Z_]+)(?P<log_status>[\\(\\)a-z]+)\\[(?P<error_code>\\d+)\\]:(?P<description>.+)\\(Ip=(?P<ip>\\d{1,3}(?:\\.\\d{1,3}){3}), Times=(?P<times>\\d+), Reason=(?P<reason>.+)\\)\"\n",
    "regex_pattern2 = r\"(?P<vendor>[A-Z]+)-(?P<physical_site_id>\\d+)_(?P<geolocation_code>[A-Z\\d]+)-(?P<router_type>[A-Z\\d]+)_(?P<router_model_number>[A-Z\\d]+)-(?P<router_importance>[A-Z\\d]+) (?P<vendor_identifier>%%)(?P<version_number>\\d+)(?P<module_name>[A-Z]+)/(?P<severity>\\d+)/(?P<log_type>[A-Z_]+)(?P<log_status>[\\(\\)a-z]+)\\[(?P<sequence_number>\\d+)\\]:(?P<description>.+)\""
   ]
  },
  {
   "cell_type": "code",
   "execution_count": 75,
   "metadata": {},
   "outputs": [],
   "source": [
    "import re\n",
    "\n",
    "matching = re.search(regex_pattern2, truncated_message)"
   ]
  },
  {
   "cell_type": "code",
   "execution_count": 76,
   "metadata": {},
   "outputs": [],
   "source": [
    "matching"
   ]
  },
  {
   "cell_type": "code",
   "execution_count": 77,
   "metadata": {},
   "outputs": [
    {
     "name": "stdout",
     "output_type": "stream",
     "text": [
      "None\n"
     ]
    }
   ],
   "source": [
    "print(matching)"
   ]
  },
  {
   "cell_type": "code",
   "execution_count": 70,
   "metadata": {},
   "outputs": [
    {
     "ename": "AttributeError",
     "evalue": "'NoneType' object has no attribute 'groupdict'",
     "output_type": "error",
     "traceback": [
      "\u001b[1;31m---------------------------------------------------------------------------\u001b[0m",
      "\u001b[1;31mAttributeError\u001b[0m                            Traceback (most recent call last)",
      "Cell \u001b[1;32mIn[70], line 1\u001b[0m\n\u001b[1;32m----> 1\u001b[0m \u001b[43mmatching\u001b[49m\u001b[38;5;241;43m.\u001b[39;49m\u001b[43mgroupdict\u001b[49m()\n",
      "\u001b[1;31mAttributeError\u001b[0m: 'NoneType' object has no attribute 'groupdict'"
     ]
    }
   ],
   "source": [
    "matching.groupdict()"
   ]
  },
  {
   "cell_type": "code",
   "execution_count": 71,
   "metadata": {},
   "outputs": [],
   "source": [
    "def extract_metadata_from_description(description):\n",
    "    if description:\n",
    "        opening_bracket_pos = description.find('(')\n",
    "        if opening_bracket_pos >= 0:\n",
    "            \n",
    "            # Slice the string and separate metadata\n",
    "            metadata = description[opening_bracket_pos + 1:-1]\n",
    "\n",
    "            \n",
    "        else:\n",
    "            print(\"no metadata available inside the description\")\n",
    "            metadata = \"\" \n",
    "    else:\n",
    "        print(\"no description and hence no metadata\")\n",
    "        metadata = \"\"\n",
    "        \n",
    "    return metadata    \n"
   ]
  },
  {
   "cell_type": "code",
   "execution_count": 72,
   "metadata": {},
   "outputs": [
    {
     "ename": "AttributeError",
     "evalue": "'NoneType' object has no attribute 'groupdict'",
     "output_type": "error",
     "traceback": [
      "\u001b[1;31m---------------------------------------------------------------------------\u001b[0m",
      "\u001b[1;31mAttributeError\u001b[0m                            Traceback (most recent call last)",
      "Cell \u001b[1;32mIn[72], line 1\u001b[0m\n\u001b[1;32m----> 1\u001b[0m extracted_info \u001b[38;5;241m=\u001b[39m \u001b[43mmatching\u001b[49m\u001b[38;5;241;43m.\u001b[39;49m\u001b[43mgroupdict\u001b[49m()\n\u001b[0;32m      2\u001b[0m description \u001b[38;5;241m=\u001b[39m extracted_info\u001b[38;5;241m.\u001b[39mget(\u001b[38;5;124m\"\u001b[39m\u001b[38;5;124mdescription\u001b[39m\u001b[38;5;124m\"\u001b[39m)\n\u001b[0;32m      3\u001b[0m metadata \u001b[38;5;241m=\u001b[39m extract_metadata_from_description(description\u001b[38;5;241m=\u001b[39mdescription)\n",
      "\u001b[1;31mAttributeError\u001b[0m: 'NoneType' object has no attribute 'groupdict'"
     ]
    }
   ],
   "source": [
    "extracted_info = matching.groupdict()\n",
    "description = extracted_info.get(\"description\")\n",
    "metadata = extract_metadata_from_description(description=description)"
   ]
  },
  {
   "cell_type": "code",
   "execution_count": 34,
   "metadata": {},
   "outputs": [
    {
     "data": {
      "text/plain": [
       "'Ip=172.31.251.25, Times=3, Reason=decoded PDU error'"
      ]
     },
     "execution_count": 34,
     "metadata": {},
     "output_type": "execute_result"
    }
   ],
   "source": [
    "metadata"
   ]
  },
  {
   "cell_type": "code",
   "execution_count": 35,
   "metadata": {},
   "outputs": [],
   "source": [
    "raw_message2 = 'Jun 11 2024 11:52:54 GPN-0866_ELA-CLI_S57-01 LLDP/4/RATEEXCESSIVE:OID 1.3.6.1.4.1.2011.5.25.134.2.7 The rate of received PDUs exceeded the threshold. (IfName=GigabitEthernet0/0/5)'\n"
   ]
  },
  {
   "cell_type": "code",
   "execution_count": 36,
   "metadata": {},
   "outputs": [],
   "source": [
    "time_dict2 = extract_time_info(message=raw_message2)"
   ]
  },
  {
   "cell_type": "code",
   "execution_count": 37,
   "metadata": {},
   "outputs": [
    {
     "data": {
      "text/plain": [
       "{'timestamp': 'Jun 11 2024 11:52:54',\n",
       " 'year': 2024,\n",
       " 'month': 6,\n",
       " 'day_of_month': 11,\n",
       " 'hour': 11,\n",
       " 'minute': 52,\n",
       " 'second': 54,\n",
       " 'millisecond': 0,\n",
       " 'day_of_week': 1,\n",
       " 'day_of_year': 163,\n",
       " 'week_of_year': 24,\n",
       " 'is_weekend': 0,\n",
       " 'seconds_since_midnight': 42774,\n",
       " 'time_of_day_bucket': 'Morning'}"
      ]
     },
     "execution_count": 37,
     "metadata": {},
     "output_type": "execute_result"
    }
   ],
   "source": [
    "time_dict2"
   ]
  },
  {
   "cell_type": "code",
   "execution_count": 42,
   "metadata": {},
   "outputs": [],
   "source": [
    "truncated_message2 = remove_time_info_from_message(message=raw_message2)"
   ]
  },
  {
   "cell_type": "code",
   "execution_count": 43,
   "metadata": {},
   "outputs": [
    {
     "data": {
      "text/plain": [
       "'GPN-0866_ELA-CLI_S57-01 LLDP/4/RATEEXCESSIVE:OID 1.3.6.1.4.1.2011.5.25.134.2.7 The rate of received PDUs exceeded the threshold. (IfName=GigabitEthernet0/0/5)'"
      ]
     },
     "execution_count": 43,
     "metadata": {},
     "output_type": "execute_result"
    }
   ],
   "source": [
    "truncated_message2"
   ]
  },
  {
   "cell_type": "code",
   "execution_count": 48,
   "metadata": {},
   "outputs": [],
   "source": [
    "regex_pattern3 = r\"(?P<vendor>[A-Z]+)-(?P<physical_site_id>\\d+)_(?P<geolocation_code>[A-Z\\d]+)-(?P<router_type>[A-Z\\d]+)_(?P<router_model_number>[A-Z\\d]+)-(?P<router_importance>[A-Z\\d]+) (?P<vendor_identifier>[A-Z]+)\\/(?P<severity>\\d+)\\/(?P<log_type>[A-Z_]+):OID (?P<oid>[A-Z\\d\\s.]+) (?P<description>.+)\""
   ]
  },
  {
   "cell_type": "code",
   "execution_count": 49,
   "metadata": {},
   "outputs": [],
   "source": [
    "\n",
    "matching2 = re.search(regex_pattern3, truncated_message2)"
   ]
  },
  {
   "cell_type": "code",
   "execution_count": 50,
   "metadata": {},
   "outputs": [
    {
     "data": {
      "text/plain": [
       "<re.Match object; span=(0, 158), match='GPN-0866_ELA-CLI_S57-01 LLDP/4/RATEEXCESSIVE:OID >"
      ]
     },
     "execution_count": 50,
     "metadata": {},
     "output_type": "execute_result"
    }
   ],
   "source": [
    "matching2"
   ]
  },
  {
   "cell_type": "code",
   "execution_count": 51,
   "metadata": {},
   "outputs": [
    {
     "data": {
      "text/plain": [
       "{'vendor': 'GPN',\n",
       " 'physical_site_id': '0866',\n",
       " 'geolocation_code': 'ELA',\n",
       " 'router_type': 'CLI',\n",
       " 'router_model_number': 'S57',\n",
       " 'router_importance': '01',\n",
       " 'vendor_identifier': 'LLDP',\n",
       " 'severity': '4',\n",
       " 'log_type': 'RATEEXCESSIVE',\n",
       " 'oid': '1.3.6.1.4.1.2011.5.25.134.2.7',\n",
       " 'description': 'The rate of received PDUs exceeded the threshold. (IfName=GigabitEthernet0/0/5)'}"
      ]
     },
     "execution_count": 51,
     "metadata": {},
     "output_type": "execute_result"
    }
   ],
   "source": [
    "matching2.groupdict()"
   ]
  },
  {
   "cell_type": "code",
   "execution_count": 78,
   "metadata": {},
   "outputs": [],
   "source": [
    "msg = 'hellog user failed'"
   ]
  },
  {
   "cell_type": "code",
   "execution_count": 84,
   "metadata": {},
   "outputs": [
    {
     "name": "stdout",
     "output_type": "stream",
     "text": [
      "hi\n"
     ]
    }
   ],
   "source": [
    "if 'faild' or 'fail' in '':\n",
    "    print(\"hi\")\n",
    "else:\n",
    "    print('no')    "
   ]
  },
  {
   "cell_type": "code",
   "execution_count": null,
   "metadata": {},
   "outputs": [],
   "source": []
  }
 ],
 "metadata": {
  "kernelspec": {
   "display_name": "new_venv",
   "language": "python",
   "name": "python3"
  },
  "language_info": {
   "codemirror_mode": {
    "name": "ipython",
    "version": 3
   },
   "file_extension": ".py",
   "mimetype": "text/x-python",
   "name": "python",
   "nbconvert_exporter": "python",
   "pygments_lexer": "ipython3",
   "version": "3.10.11"
  }
 },
 "nbformat": 4,
 "nbformat_minor": 2
}
