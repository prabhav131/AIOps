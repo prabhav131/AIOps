{
 "cells": [
  {
   "cell_type": "code",
   "execution_count": 1,
   "metadata": {},
   "outputs": [],
   "source": [
    "import csv\n",
    "import re\n",
    "import os\n",
    "from datetime import datetime"
   ]
  },
  {
   "cell_type": "code",
   "execution_count": 2,
   "metadata": {},
   "outputs": [],
   "source": [
    "# Define the input and output CSV file paths\n",
    "input_csv_name = \"TACACS.csv\"\n",
    "input_dir = \"data\"\n",
    "output_dir = \"processed_data\"\n",
    "if not os.path.isdir(output_dir):\n",
    "        os.makedirs(output_dir)\n",
    "output_csv_name = input_csv_name[:-4] + \"_output\" + \".csv\"\n",
    "input_csv_path = os.path.join(input_dir,input_csv_name)\n",
    "output_csv_path = os.path.join(output_dir,output_csv_name)"
   ]
  },
  {
   "cell_type": "code",
   "execution_count": 3,
   "metadata": {},
   "outputs": [],
   "source": [
    "def extract_time_info(message):\n",
    "        # Extract timestamp\n",
    "        split_message = message.split(' ')\n",
    "        if split_message[1] == '':\n",
    "            split_message.remove('')\n",
    "        timestamp_str = split_message[0:3]    \n",
    "        timestamp_str = ' '.join(timestamp_str)\n",
    "        dt = datetime.strptime(timestamp_str, \"%b %d %H:%M:%S\")\n",
    "        month = dt.month\n",
    "        day_of_month = dt.day\n",
    "        hour = dt.hour\n",
    "        minute = dt.minute\n",
    "        second = dt.second\n",
    "        millisecond = dt.microsecond // 1000\n",
    "        day_of_week = dt.weekday()  # Monday = 0, Sunday = 6\n",
    "        day_of_year = dt.timetuple().tm_yday\n",
    "        week_of_year = dt.isocalendar()[1]\n",
    "        is_weekend = int(dt.weekday() >= 5)\n",
    "        seconds_since_midnight = hour * 3600 + minute * 60 + second\n",
    "        time_of_day_bucket = 'Morning' if hour < 12 else 'Afternoon' if hour < 18 else 'Evening' if hour < 21 else 'Night'\n",
    "        time_dict = {\n",
    "            'timestamp': timestamp_str,\n",
    "            'month': month,\n",
    "            'day_of_month': day_of_month,\n",
    "            'hour': hour,\n",
    "            'minute': minute,\n",
    "            'second': second,\n",
    "            'millisecond': millisecond,\n",
    "            'day_of_week': day_of_week,\n",
    "            'day_of_year': day_of_year,\n",
    "            'week_of_year': week_of_year,\n",
    "            'is_weekend': is_weekend,\n",
    "            'seconds_since_midnight': seconds_since_midnight,\n",
    "            'time_of_day_bucket': time_of_day_bucket\n",
    "        }\n",
    "        return time_dict\n"
   ]
  },
  {
   "cell_type": "code",
   "execution_count": 4,
   "metadata": {},
   "outputs": [],
   "source": [
    "def remove_time_info_from_message(message):\n",
    "        # Find the position of the first colon\n",
    "        first_colon_pos = message.find(':')\n",
    "\n",
    "        # Find the position of the second colon by starting the search after the first colon\n",
    "        second_colon_pos = message.find(':', first_colon_pos + 1)\n",
    "\n",
    "        # Slice the string two characters after the second colon\n",
    "        truncated_message = message[second_colon_pos + 5:]\n",
    "\n",
    "        # Print the truncated message\n",
    "        return truncated_message"
   ]
  },
  {
   "cell_type": "code",
   "execution_count": 5,
   "metadata": {},
   "outputs": [],
   "source": [
    "\n",
    "# Sample message\n",
    "message = \"Jul 29 08:06:46  172.31.210.13 nms_admin vty0  172.31.25.125 stop  task_id=2094590 timezone=2  service=shell disc-cause=3  disc-cause-ext=1022 elapsed_time=597\"\n",
    "            \n",
    "            \n",
    "time_info = extract_time_info(message=message)\n",
    "\n"
   ]
  },
  {
   "cell_type": "code",
   "execution_count": 6,
   "metadata": {},
   "outputs": [],
   "source": [
    "truncated_message = remove_time_info_from_message(message)\n",
    "message = truncated_message\n"
   ]
  },
  {
   "cell_type": "code",
   "execution_count": 7,
   "metadata": {},
   "outputs": [
    {
     "name": "stdout",
     "output_type": "stream",
     "text": [
      "{'timestamp': 'Jul 29 08:06:46', 'month': 7, 'day_of_month': 29, 'hour': 8, 'minute': 6, 'second': 46, 'millisecond': 0, 'day_of_week': 6, 'day_of_year': 210, 'week_of_year': 30, 'is_weekend': 1, 'seconds_since_midnight': 29206, 'time_of_day_bucket': 'Morning'}\n"
     ]
    }
   ],
   "source": [
    "print(time_info)"
   ]
  },
  {
   "cell_type": "code",
   "execution_count": 8,
   "metadata": {},
   "outputs": [
    {
     "name": "stdout",
     "output_type": "stream",
     "text": [
      "172.31.210.13 nms_admin vty0  172.31.25.125 stop  task_id=2094590 timezone=2  service=shell disc-cause=3  disc-cause-ext=1022 elapsed_time=597\n"
     ]
    }
   ],
   "source": [
    "print(message)"
   ]
  },
  {
   "cell_type": "code",
   "execution_count": 9,
   "metadata": {},
   "outputs": [],
   "source": [
    "pattern = re.compile(r\"\"\"\n",
    "    ^(?P<source_ip>\\d+\\.\\d+\\.\\d+\\.\\d+)\\s+\n",
    "    (?P<user>\\w+)\\s+\n",
    "    (?P<terminal>\\w+)\\s+\n",
    "    (?P<destination_ip>\\d+\\.\\d+\\.\\d+\\.\\d+)\\s+stop\\s+\n",
    "    task_id=(?P<task_id>\\d+)\\s+\n",
    "    timezone=(?P<timezone>\\d+)\\s+\n",
    "    service=(?P<service>\\w+)\\s+\n",
    "    disc-cause=(?P<disc_cause>\\d+)\\s+\n",
    "    disc-cause-ext=(?P<disc_cause_ext>\\d+)\\s+\n",
    "    elapsed_time=(?P<elapsed_time>\\d+)\n",
    "\"\"\", re.VERBOSE)\n"
   ]
  },
  {
   "cell_type": "code",
   "execution_count": 10,
   "metadata": {},
   "outputs": [],
   "source": [
    "pattern2 = re.compile(r\"\"\"\n",
    "    ^(?P<source_ip>\\d+\\.\\d+\\.\\d+\\.\\d+)\\s+\n",
    "    (?P<user>\\w+)\\s+\n",
    "    (?P<terminal>\\w+)\\s+\n",
    "    (?P<destination_ip>\\d+\\.\\d+\\.\\d+\\.\\d+)\\s+stop\\s+\n",
    "    (?P<description>.+)\"\"\", re.VERBOSE)\n"
   ]
  },
  {
   "cell_type": "code",
   "execution_count": 11,
   "metadata": {},
   "outputs": [
    {
     "name": "stdout",
     "output_type": "stream",
     "text": [
      "{'source_ip': '172.31.210.13', 'user': 'nms_admin', 'terminal': 'vty0', 'destination_ip': '172.31.25.125', 'description': 'task_id=2094590 timezone=2  service=shell disc-cause=3  disc-cause-ext=1022 elapsed_time=597'}\n",
      "source_ip: 172.31.210.13\n",
      "user: nms_admin\n",
      "terminal: vty0\n",
      "destination_ip: 172.31.25.125\n",
      "description: task_id=2094590 timezone=2  service=shell disc-cause=3  disc-cause-ext=1022 elapsed_time=597\n"
     ]
    }
   ],
   "source": [
    "\n",
    "# Extract fields using the combined regex pattern\n",
    "def extract_fields(message):\n",
    "    match = pattern2.search(message)\n",
    "    if match:\n",
    "        return match.groupdict()\n",
    "    return {}\n",
    "\n",
    "# Extract the fields\n",
    "extracted_fields = extract_fields(message)\n",
    "print(extracted_fields)\n",
    "# Print the extracted fields\n",
    "for key, value in extracted_fields.items():\n",
    "    print(f\"{key}: {value}\")\n"
   ]
  },
  {
   "cell_type": "code",
   "execution_count": 12,
   "metadata": {},
   "outputs": [
    {
     "name": "stdout",
     "output_type": "stream",
     "text": [
      "source_ip: 172.31.210.13\n",
      "destination_ip: 172.31.25.125\n",
      "task_id: 2094590\n",
      "timezone: 2\n",
      "service: shell\n",
      "disc_cause: 3\n",
      "disc_cause_ext: 1022\n",
      "elapsed_time: 597\n"
     ]
    }
   ],
   "source": [
    "# NOTE!\n",
    "# For extracting the known fields and \n",
    "# not having to deal with uncertainties like random spaces, \n",
    "# misorder of fields, use this approach. \n",
    "\n",
    "# Basically, here we just look for what fields we want\n",
    "# in the message and apart from that anything can be there, \n",
    "# and it wont harm us, unlike the case when we match one \n",
    "# big pattern for extracting the entire info. \n",
    "\n",
    "# It is slightly less optimal computationally but \n",
    "# more effective when there is uncertainty about the connectors present\n",
    "# between useful fields in the raw message.\n",
    "# For eg: suppose in a particular data source, for 10000 raw messages ingested, \n",
    "# in between the useful fields of 'time' and 'hostname', \n",
    "# there is 1 space in some messages and there are 2 spaces in rest of messages.\n",
    "\n",
    "\n",
    "import re\n",
    "\n",
    "# Sample message\n",
    "message = '''172.31.210.13  \n",
    "            nms_admin vty0  172.31.25.125 stop  \n",
    "            task_id=2094590 timezone=2  \n",
    "            service=shell disc-cause=3  \n",
    "            disc-cause-ext=1022 elapsed_time=597'''\n",
    "\n",
    "# Define regex patterns for each field\n",
    "patterns = {\n",
    "    'source_ip': r'^(\\d+\\.\\d+\\.\\d+\\.\\d+)',\n",
    "    'destination_ip': r'\\s+(\\d+\\.\\d+\\.\\d+\\.\\d+)\\s+stop',\n",
    "    'task_id': r'task_id=(\\d+)',\n",
    "    'timezone': r'timezone=(\\d+)',\n",
    "    'service': r'service=([\\w]+)',\n",
    "    'disc_cause': r'disc-cause=(\\d+)',\n",
    "    'disc_cause_ext': r'disc-cause-ext=(\\d+)',\n",
    "    'elapsed_time': r'elapsed_time=(\\d+)'\n",
    "}\n",
    "\n",
    "# Extract fields using regex patterns\n",
    "def extract_fields(message):\n",
    "    fields = {}\n",
    "    for key, pattern in patterns.items():\n",
    "        match = re.search(pattern, message)\n",
    "        if match:\n",
    "            fields[key] = match.group(1)\n",
    "    return fields\n",
    "\n",
    "# Extract the fields\n",
    "extracted_fields = extract_fields(message)\n",
    "\n",
    "# Print the extracted fields\n",
    "for key, value in extracted_fields.items():\n",
    "    print(f\"{key}: {value}\")\n"
   ]
  },
  {
   "cell_type": "code",
   "execution_count": null,
   "metadata": {},
   "outputs": [],
   "source": []
  }
 ],
 "metadata": {
  "kernelspec": {
   "display_name": "venv",
   "language": "python",
   "name": "python3"
  },
  "language_info": {
   "codemirror_mode": {
    "name": "ipython",
    "version": 3
   },
   "file_extension": ".py",
   "mimetype": "text/x-python",
   "name": "python",
   "nbconvert_exporter": "python",
   "pygments_lexer": "ipython3",
   "version": "3.10.11"
  }
 },
 "nbformat": 4,
 "nbformat_minor": 2
}
