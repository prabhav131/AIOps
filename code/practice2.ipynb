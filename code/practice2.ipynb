{
 "cells": [
  {
   "cell_type": "code",
   "execution_count": 9,
   "metadata": {},
   "outputs": [],
   "source": [
    "import csv\n",
    "import re\n",
    "import os"
   ]
  },
  {
   "cell_type": "code",
   "execution_count": 10,
   "metadata": {},
   "outputs": [],
   "source": [
    "# Define your regex pattern\n",
    "pattern1 = r\"(?P<vendor>[A-Z]+)-(?P<physical_site_id>\\d+)_(?P<geolocation_code>[A-Z\\d]+)-(?P<router_type>[A-Z\\d]+)_(?P<router_model_number>[A-Z\\d]+)-(?P<router_importance>[A-Z\\d]+) (?P<vendor_identifier>%%)(?P<version_number>\\d+)(?P<module_name>[A-Z]+)/(?P<severity>\\d+)/(?P<log_type>[A-Z_]+)(?P<log_status>[\\(\\)a-z]+):CID=(?P<cid>[0-9a-zA-Z]+);(?P<description>.+?)\\((?P<metadata>.+?)\\)\"\n"
   ]
  },
  {
   "cell_type": "code",
   "execution_count": 11,
   "metadata": {},
   "outputs": [
    {
     "name": "stdout",
     "output_type": "stream",
     "text": [
      "(?P<vendor>[A-Z]+)-(?P<physical_site_id>\\d+)_(?P<geolocation_code>[A-Z\\d]+)-(?P<router_type>[A-Z\\d]+)_(?P<router_model_number>[A-Z\\d]+)-(?P<router_importance>[A-Z\\d]+) (?P<vendor_identifier>%%)(?P<version_number>\\d+)(?P<module_name>[A-Z]+)/(?P<severity>\\d+)/(?P<log_type>[A-Z_]+)(?P<log_status>[\\(\\)a-z]+):CID=(?P<cid>[0-9a-zA-Z]+);(?P<description>.+?)\\((?P<metadata>.+?)\\)\n"
     ]
    }
   ],
   "source": [
    "print(pattern1)"
   ]
  },
  {
   "cell_type": "code",
   "execution_count": 12,
   "metadata": {},
   "outputs": [],
   "source": [
    "# Function to extract fields from a message using regex\n",
    "def extract_fields(message):\n",
    "    match = re.search(pattern1, message)\n",
    "    if match:\n",
    "        return match.groupdict()  # Returns a dictionary of matched fields\n",
    "    else:\n",
    "        # Return empty strings for all expected fields if pattern does not match\n",
    "        return {\n",
    "            \"vendor\": \"\",\n",
    "            \"physical_site_id\": \"\",\n",
    "            \"geolocation_code\": \"\",\n",
    "            \"router_type\": \"\",\n",
    "            \"router_model_number\": \"\",\n",
    "            \"router_importance\": \"\",\n",
    "            \"vendor_identifier\": \"\",\n",
    "            \"version_number\": \"\",\n",
    "            \"module_name\": \"\",\n",
    "            \"severity\": \"\",\n",
    "            \"log_type\": \"\",\n",
    "            \"log_status\": \"\",\n",
    "            \"cid\": \"\",\n",
    "            \"description\": \"\",\n",
    "            \"metadata\": \"\",\n",
    "        }\n"
   ]
  },
  {
   "cell_type": "code",
   "execution_count": 13,
   "metadata": {},
   "outputs": [],
   "source": [
    "# Function to process the CSV file\n",
    "def process_csv(input_csv, output_csv):\n",
    "    with open(input_csv, mode='r') as infile, open(output_csv, mode='w', newline='') as outfile:\n",
    "        reader = csv.reader(infile)\n",
    "        writer = csv.writer(outfile)\n",
    "\n",
    "        # Read the header and prepare the output header\n",
    "        header = next(reader)\n",
    "        output_header = header + [\n",
    "            'vendor', 'physical_site_id', 'geolocation_code', 'router_type', 'router_model_number',\n",
    "            'router_importance', 'vendor_identifier', 'version_number', 'module_name', 'severity', \n",
    "            'log_type', 'log_status', 'cid', 'description', 'metadata'\n",
    "        ]\n",
    "        writer.writerow(output_header)\n",
    "\n",
    "        # Process each row\n",
    "        for row in reader:\n",
    "            message = row[2]  # Assuming the message is in the third column\n",
    "            extracted_data = extract_fields(message)\n",
    "\n",
    "            # Merge extracted data with the original row\n",
    "            output_row = row + [extracted_data.get(key, '') for key in output_header[len(header):]]\n",
    "\n",
    "            writer.writerow(output_row)"
   ]
  },
  {
   "cell_type": "code",
   "execution_count": 25,
   "metadata": {},
   "outputs": [
    {
     "ename": "AttributeError",
     "evalue": "'str' object has no attribute 'match'",
     "output_type": "error",
     "traceback": [
      "\u001b[1;31m---------------------------------------------------------------------------\u001b[0m",
      "\u001b[1;31mAttributeError\u001b[0m                            Traceback (most recent call last)",
      "Cell \u001b[1;32mIn[25], line 11\u001b[0m\n\u001b[0;32m      8\u001b[0m output_file_path \u001b[38;5;241m=\u001b[39m os\u001b[38;5;241m.\u001b[39mpath\u001b[38;5;241m.\u001b[39mjoin(output_dir,output_file_name)\n\u001b[0;32m     10\u001b[0m \u001b[38;5;66;03m# Process the CSV file\u001b[39;00m\n\u001b[1;32m---> 11\u001b[0m \u001b[43mprocess_csv\u001b[49m\u001b[43m(\u001b[49m\u001b[43minput_file_path\u001b[49m\u001b[43m,\u001b[49m\u001b[43m \u001b[49m\u001b[43moutput_file_path\u001b[49m\u001b[43m)\u001b[49m\n",
      "Cell \u001b[1;32mIn[13], line 19\u001b[0m, in \u001b[0;36mprocess_csv\u001b[1;34m(input_csv, output_csv)\u001b[0m\n\u001b[0;32m     17\u001b[0m \u001b[38;5;28;01mfor\u001b[39;00m row \u001b[38;5;129;01min\u001b[39;00m reader:\n\u001b[0;32m     18\u001b[0m     message \u001b[38;5;241m=\u001b[39m row[\u001b[38;5;241m2\u001b[39m]  \u001b[38;5;66;03m# Assuming the message is in the third column\u001b[39;00m\n\u001b[1;32m---> 19\u001b[0m     extracted_data \u001b[38;5;241m=\u001b[39m \u001b[43mextract_fields\u001b[49m\u001b[43m(\u001b[49m\u001b[43mmessage\u001b[49m\u001b[43m)\u001b[49m\n\u001b[0;32m     21\u001b[0m     \u001b[38;5;66;03m# Merge extracted data with the original row\u001b[39;00m\n\u001b[0;32m     22\u001b[0m     output_row \u001b[38;5;241m=\u001b[39m row \u001b[38;5;241m+\u001b[39m [extracted_data\u001b[38;5;241m.\u001b[39mget(key, \u001b[38;5;124m'\u001b[39m\u001b[38;5;124m'\u001b[39m) \u001b[38;5;28;01mfor\u001b[39;00m key \u001b[38;5;129;01min\u001b[39;00m output_header[\u001b[38;5;28mlen\u001b[39m(header):]]\n",
      "Cell \u001b[1;32mIn[12], line 3\u001b[0m, in \u001b[0;36mextract_fields\u001b[1;34m(message)\u001b[0m\n\u001b[0;32m      2\u001b[0m \u001b[38;5;28;01mdef\u001b[39;00m \u001b[38;5;21mextract_fields\u001b[39m(message):\n\u001b[1;32m----> 3\u001b[0m     match \u001b[38;5;241m=\u001b[39m \u001b[43mpattern1\u001b[49m\u001b[38;5;241;43m.\u001b[39;49m\u001b[43mmatch\u001b[49m(message)\n\u001b[0;32m      4\u001b[0m     \u001b[38;5;28;01mif\u001b[39;00m match:\n\u001b[0;32m      5\u001b[0m         \u001b[38;5;28;01mreturn\u001b[39;00m match\u001b[38;5;241m.\u001b[39mgroupdict()  \u001b[38;5;66;03m# Returns a dictionary of matched fields\u001b[39;00m\n",
      "\u001b[1;31mAttributeError\u001b[0m: 'str' object has no attribute 'match'"
     ]
    }
   ],
   "source": [
    "# Define the input and output CSV file paths\n",
    "input_file_name = \"GPN_Syslog_mini.csv\"\n",
    "input_dir = \"data\"\n",
    "output_dir = \"processed_data\"\n",
    "os.mkdir(\"processed_data\")\n",
    "output_file_name = input_file_name[:-4] + \"_output\" + \".csv\"\n",
    "input_file_path = os.path.join(input_dir,input_file_name)\n",
    "output_file_path = os.path.join(output_dir,output_file_name)\n",
    "\n",
    "# Process the CSV file\n",
    "process_csv(input_file_path, output_file_path)"
   ]
  },
  {
   "cell_type": "code",
   "execution_count": 21,
   "metadata": {},
   "outputs": [],
   "source": [
    "input_file_name = \"GPN_Syslog_mini.csv\"\n",
    "input_dir = \"data\"\n",
    "output_dir = \"processed_data\"\n",
    "output_file_name = input_file_name[:-4] + \"_output\" + \".csv\""
   ]
  },
  {
   "cell_type": "code",
   "execution_count": 22,
   "metadata": {},
   "outputs": [
    {
     "name": "stdout",
     "output_type": "stream",
     "text": [
      "GPN_Syslog_mini_output.csv\n"
     ]
    }
   ],
   "source": [
    "print(output_file_name)"
   ]
  },
  {
   "cell_type": "code",
   "execution_count": null,
   "metadata": {},
   "outputs": [],
   "source": []
  }
 ],
 "metadata": {
  "kernelspec": {
   "display_name": "venv",
   "language": "python",
   "name": "python3"
  },
  "language_info": {
   "codemirror_mode": {
    "name": "ipython",
    "version": 3
   },
   "file_extension": ".py",
   "mimetype": "text/x-python",
   "name": "python",
   "nbconvert_exporter": "python",
   "pygments_lexer": "ipython3",
   "version": "3.10.11"
  }
 },
 "nbformat": 4,
 "nbformat_minor": 2
}
